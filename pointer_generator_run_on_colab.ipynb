{
  "nbformat": 4,
  "nbformat_minor": 0,
  "metadata": {
    "colab": {
      "name": "pointer_generator_run_on_colab.ipynb",
      "version": "0.3.2",
      "provenance": [],
      "include_colab_link": true
    },
    "kernelspec": {
      "name": "python3",
      "display_name": "Python 3"
    },
    "accelerator": "GPU"
  },
  "cells": [
    {
      "cell_type": "markdown",
      "metadata": {
        "id": "view-in-github",
        "colab_type": "text"
      },
      "source": [
        "<a href=\"https://colab.research.google.com/github/steph1793/Pointer_Transformer_Generator/blob/master/pointer_generator_run_on_colab.ipynb\" target=\"_parent\"><img src=\"https://colab.research.google.com/assets/colab-badge.svg\" alt=\"Open In Colab\"/></a>"
      ]
    },
    {
      "cell_type": "markdown",
      "metadata": {
        "id": "R0YKfS3YGTk9",
        "colab_type": "text"
      },
      "source": [
        "# Pointer Transformer Generator Tensorflow 2.0.2 beta-1"
      ]
    },
    {
      "cell_type": "code",
      "metadata": {
        "id": "EkYCSmWOE_CF",
        "colab_type": "code",
        "colab": {}
      },
      "source": [
        "!pip install tensorflow-gpu==2.0.0-beta1"
      ],
      "execution_count": 0,
      "outputs": []
    },
    {
      "cell_type": "code",
      "metadata": {
        "id": "aR0InIHa6GI3",
        "colab_type": "code",
        "colab": {}
      },
      "source": [
        "from google.colab import drive\n",
        "drive.mount(\"/content/drive\")"
      ],
      "execution_count": 0,
      "outputs": []
    },
    {
      "cell_type": "markdown",
      "metadata": {
        "id": "5GG_DJjc_VIL",
        "colab_type": "text"
      },
      "source": [
        "\n",
        "**Git clone project**"
      ]
    },
    {
      "cell_type": "code",
      "metadata": {
        "id": "RYWr1D0f6j6K",
        "colab_type": "code",
        "colab": {}
      },
      "source": [
        "%%bash\n",
        "git clone https://github.com/steph1793/Pointer_Transformer_Generator "
      ],
      "execution_count": 0,
      "outputs": []
    },
    {
      "cell_type": "markdown",
      "metadata": {
        "id": "BR5vlKHz9Req",
        "colab_type": "text"
      },
      "source": [
        "You can modify model_dir in order to save you model in your drive; and data_dir and vocab_path, in repect with their real paths in your drive\n",
        "\n",
        "\n",
        "*** PS :  We suppose you have your data on your drive***"
      ]
    },
    {
      "cell_type": "code",
      "metadata": {
        "id": "nox5S1LI8kN2",
        "colab_type": "code",
        "colab": {}
      },
      "source": [
        "!python Pointer_Transformer_Generator/main.py --max_enc_len=400 \\\n",
        "--max_dec_len=100 \\\n",
        "--batch_size=16 \\\n",
        "--vocab_size=50000 \\\n",
        "--num_layers=3 \\\n",
        "--model_depth=512 \\\n",
        "--num_heads=8 \\\n",
        "--dff=2048 \\\n",
        "--seed=123 \\\n",
        "--log_step_count_steps=1 \\\n",
        "--max_steps=230000 \\\n",
        "--mode=train \\\n",
        "--save_summary_steps=10000 \\\n",
        "--checkpoints_save_steps=10000 \\\n",
        "--model_dir=\"transformer_model_dir\" \\\n",
        "--data_dir=\"drive/My Drive/pointer_gen/cnn-dailymail/tfrecords_finished_files/chunked\" \\\n",
        "--vocab_path=\"drive/My Drive/pointer_gen/cnn-dailymail/tfrecords_finished_files/vocab\" \\"
      ],
      "execution_count": 0,
      "outputs": []
    }
  ]
}